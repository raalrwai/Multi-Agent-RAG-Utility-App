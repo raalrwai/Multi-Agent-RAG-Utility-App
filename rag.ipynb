{
 "cells": [
  {
   "cell_type": "code",
   "execution_count": null,
   "id": "ff95c658",
   "metadata": {},
   "outputs": [],
   "source": [
    "import os\n",
    "\n",
    "import numpy as np\n",
    "import pandas as pd\n",
    "\n",
    "import cv2\n",
    "import zipfile\n",
    "from pdf2image import convert_from_path\n",
    "import hashlib\n"
   ]
  },
  {
   "cell_type": "code",
   "execution_count": null,
   "id": "7e619e3d",
   "metadata": {},
   "outputs": [],
   "source": [
    "from openai import OpenAI\n",
    "from pinecone import Pinecone\n",
    "from dotenv import load_dotenv"
   ]
  },
  {
   "cell_type": "markdown",
   "id": "a8785f50",
   "metadata": {},
   "source": []
  },
  {
   "cell_type": "code",
   "execution_count": null,
   "id": "048d91b1",
   "metadata": {},
   "outputs": [],
   "source": [
    "cur_dir = os.getcwd()\n",
    "zip_file_path = 'Electricity_bills.zip'\n",
    "data_dir = os.path.join(cur_dir,'data\\\\')\n",
    "pdf_dir = os.path.join(data_dir, 'pdf\\\\')\n",
    "\n",
    "if not os.path.exists(data_dir):\n",
    "    os.mkdir(data_dir)\n",
    "\n",
    "if not os.path.exists(pdf_dir):\n",
    "    os.mkdir(pdf_dir)\n",
    "\n",
    "with zipfile.ZipFile(zip_file_path, 'r') as zip_file:\n",
    "    zip_file.extractall(pdf_dir)"
   ]
  },
  {
   "cell_type": "code",
   "execution_count": null,
   "id": "e180b90b",
   "metadata": {},
   "outputs": [],
   "source": [
    "jpeg_dir = os.path.join(data_dir, 'jpeg\\\\')\n",
    "if not os.path.exists(jpeg_dir):\n",
    "    os.mkdir(jpeg_dir)\n",
    "\n",
    "\n",
    "for pdf in os.listdir(pdf_dir):\n",
    "    image = convert_from_path(os.path.join(pdf_dir,pdf))\n",
    "    image[0].save(os.path.join(jpeg_dir,pdf[:-4]+'.jpeg'), 'JPEG')"
   ]
  },
  {
   "cell_type": "code",
   "execution_count": null,
   "id": "cbdac833",
   "metadata": {},
   "outputs": [],
   "source": [
    "load_dotenv()\n",
    "os.environ['OPENAI_API_KEY'] = os.getenv('OPENAI_API_KEY')\n",
    "client = OpenAI()"
   ]
  },
  {
   "cell_type": "code",
   "execution_count": null,
   "id": "7fb896da",
   "metadata": {},
   "outputs": [],
   "source": [
    "def vision_embed_file(file_name, multi_modal_model='gpt-4.1-mini', embedding_model='text-embedding-3-small'):\n",
    "  def create_file(file_path):\n",
    "    with open(file_path, \"rb\") as file_content:\n",
    "      result = client.files.create(\n",
    "          file=file_content,\n",
    "          purpose=\"vision\",\n",
    "      )\n",
    "      return result.id\n",
    "\n",
    "  file_id = create_file(file_name)\n",
    "\n",
    "  response = client.responses.create(\n",
    "      model = multi_modal_model,\n",
    "      input=[{\n",
    "            'role':'user',\n",
    "            'content':[{\n",
    "                'type': 'input_text',\n",
    "                    'text': 'what\\'s in this image?'},\n",
    "                {'type':'input_image',\n",
    "                    'file_id':file_id}\n",
    "            ]\n",
    "      }]\n",
    "  )\n",
    "  caption = response.output_text\n",
    "  embedding_object = client.embeddings.create(input=caption, model=embedding_model)\n",
    "  vector = embedding_object.data[0].embedding\n",
    "\n",
    "  # Display Results\n",
    "  # Display Image from URL\n",
    "  # os.system('wget %s' %image_url_)\n",
    "  # file_name=str(image_url_).split(\"/\")[-1]\n",
    "#   print(file_name)\n",
    "#   img = cv2.imread(file_name)\n",
    "#   cv2_imshow(img)\n",
    "#   print(caption)\n",
    "#   print(\"Summary Length in characters:\"+str(len(caption)))\n",
    "\n",
    "\n",
    "  return_dict = {'image_caption': caption, 'file_id':file_id, 'embedding':vector}\n",
    "\n",
    "  return return_dict\n",
    "\n"
   ]
  },
  {
   "cell_type": "code",
   "execution_count": null,
   "id": "5e49039b",
   "metadata": {},
   "outputs": [],
   "source": [
    "def get_embeddings(text, model=\"text-embedding-3-small\"):\n",
    "    text = text.replace(\"\\n\",\" \")\n",
    "    return client.embeddings.create(input=text, model=model).data[0].embedding"
   ]
  },
  {
   "cell_type": "code",
   "execution_count": null,
   "id": "5af9ab6f",
   "metadata": {},
   "outputs": [],
   "source": [
    "pc = Pinecone(api_key=os.getenv('PINECONE_API_KEY'))\n",
    "index = pc.Index('retrieval-augmented-generation')\n",
    "index.describe_index_stats()"
   ]
  },
  {
   "cell_type": "code",
   "execution_count": null,
   "id": "cc6d423d",
   "metadata": {},
   "outputs": [],
   "source": [
    "index.delete(delete_all=True)\n",
    "print(\" Pinecone index has been reset.\")"
   ]
  },
  {
   "cell_type": "code",
   "execution_count": null,
   "id": "b2e67035",
   "metadata": {},
   "outputs": [],
   "source": [
    "def hash_file(filepath):\n",
    "    with open(filepath, \"rb\") as f:\n",
    "        return hashlib.sha256(f.read()).hexdigest()\n",
    "\n",
    "df = pd.DataFrame(columns=['id', 'values', 'metadata'])\n",
    "\n",
    "i = 0\n",
    "for jpeg in os.listdir(jpeg_dir):\n",
    "    file_path = os.path.join(jpeg_dir, jpeg)\n",
    "    \n",
    "    vector_id = hash_file(file_path)\n",
    "\n",
    "    res = index.fetch(ids=[vector_id])\n",
    "    if vector_id in res.vectors:\n",
    "        print(f\"Skipping duplicate: {jpeg}\")\n",
    "        continue  \n",
    "\n",
    "    embedding = vision_embed_file(file_path)\n",
    "\n",
    "    df.loc[i] = [vector_id, embedding['embedding'], {'caption': embedding['image_caption']}]\n",
    "    i += 1\n",
    "\n",
    "df.to_csv(os.path.join(data_dir, 'embeds.csv'), index=False)\n"
   ]
  },
  {
   "cell_type": "code",
   "execution_count": null,
   "id": "5bae083e",
   "metadata": {},
   "outputs": [],
   "source": [
    "def augmented_query(user_query, embed_model='text-embedding-3-small',k=5):\n",
    "    contexts,query = get_context(user_query,embed_model = embed_model,k=k)\n",
    "    return \"\\n\\n--------------------------\\n\\n\".join(contexts)+\"\\n\\n--------------------------\\n\\n\" + query"
   ]
  },
  {
   "cell_type": "code",
   "execution_count": null,
   "id": "43656a18",
   "metadata": {},
   "outputs": [],
   "source": [
    "def prepare_DF(df):\n",
    "  import json,ast\n",
    "  try: df=df.drop('Unnamed: 0',axis=1)\n",
    "  except: print('Unnamed Not Found')\n",
    "  df['values']=df['values'].apply(lambda x: np.array([float(i) for i in x.replace(\"[\",'').replace(\"]\",'').split(',')]))\n",
    "  df['metadata']=df['metadata'].apply(lambda x: ast.literal_eval(x))\n",
    "  return df"
   ]
  },
  {
   "cell_type": "code",
   "execution_count": null,
   "id": "79e7a77c",
   "metadata": {},
   "outputs": [],
   "source": [
    "index_df = prepare_DF(pd.read_csv(os.path.join(data_dir,'embeds.csv')))"
   ]
  },
  {
   "cell_type": "code",
   "execution_count": null,
   "id": "d0fe143b",
   "metadata": {},
   "outputs": [],
   "source": [
    "upsert_vectors = list(index_df.itertuples(index=False, name=None))"
   ]
  },
  {
   "cell_type": "code",
   "execution_count": null,
   "id": "bccc7e51",
   "metadata": {},
   "outputs": [],
   "source": [
    "index.upsert(vectors=upsert_vectors)"
   ]
  },
  {
   "cell_type": "code",
   "execution_count": null,
   "id": "9f6743fe",
   "metadata": {},
   "outputs": [],
   "source": [
    "index.describe_index_stats()"
   ]
  },
  {
   "cell_type": "code",
   "execution_count": null,
   "id": "123d9d0f",
   "metadata": {},
   "outputs": [],
   "source": [
    "sample_text = \"What bills are due?\""
   ]
  },
  {
   "cell_type": "code",
   "execution_count": null,
   "id": "065454be",
   "metadata": {},
   "outputs": [],
   "source": [
    "test_embeddings = get_embeddings(sample_text)"
   ]
  },
  {
   "cell_type": "code",
   "execution_count": null,
   "id": "13cfe61a",
   "metadata": {},
   "outputs": [],
   "source": [
    "index.query(vector=test_embeddings, top_k=5,include_metadata=True)"
   ]
  },
  {
   "cell_type": "code",
   "execution_count": null,
   "id": "a134cf32",
   "metadata": {},
   "outputs": [],
   "source": [
    "def get_context(query, embed_model = 'text-embedding-3-small',k=5,index=index):\n",
    "    query_embeddings = get_embeddings(query,model=embed_model)\n",
    "    pinecone_response = index.query(vector=query_embeddings,top_k=k,include_metadata=True)\n",
    "    contexts = [item['metadata']['caption'] for item in pinecone_response['matches']]\n",
    "    return contexts, query"
   ]
  },
  {
   "cell_type": "code",
   "execution_count": null,
   "id": "1fb792df",
   "metadata": {},
   "outputs": [],
   "source": [
    "get_context(\"Tell me about Avg. monthly usage\")"
   ]
  },
  {
   "cell_type": "code",
   "execution_count": null,
   "id": "014736ef",
   "metadata": {},
   "outputs": [],
   "source": [
    "my_question = \"Tell me about useage?\"\n",
    "augg = augmented_query(my_question)\n",
    "print(augg)"
   ]
  },
  {
   "cell_type": "code",
   "execution_count": null,
   "id": "3bc24aa6",
   "metadata": {},
   "outputs": [],
   "source": [
    "def ask_gpt_response(system_prompt, user_prompt, model='gpt-5-chat-latest'):\n",
    "  response = client.responses.create(\n",
    "      model=model,\n",
    "      input=[\n",
    "          {\"role\":\"developer\",\n",
    "          \"content\":system_prompt},\n",
    "          {\"role\":\"user\",\n",
    "           \"content\":user_prompt}])\n",
    "  return response.output_text, response"
   ]
  },
  {
   "cell_type": "code",
   "execution_count": null,
   "id": "19b4270e",
   "metadata": {},
   "outputs": [],
   "source": [
    "import textwrap"
   ]
  },
  {
   "cell_type": "code",
   "execution_count": null,
   "id": "92b01769",
   "metadata": {},
   "outputs": [],
   "source": [
    "primer = f\"\"\"\n",
    "You are a knowledgeable assistant specialized in answering questions about electric utility bills. \n",
    "You provide accurate and clear explanations based solely on the bill details and information provided above each question. \n",
    "If the information is not sufficient to answer the question, respond truthfully with, \"I don't know.\"\n",
    "\"\"\""
   ]
  },
  {
   "cell_type": "code",
   "execution_count": null,
   "id": "c580efae",
   "metadata": {},
   "outputs": [],
   "source": [
    "print(ask_gpt_response(system_prompt=primer, user_prompt=augmented_query('Give me some analysis of recent bills?')))"
   ]
  },
  {
   "cell_type": "code",
   "execution_count": null,
   "id": "1233b732",
   "metadata": {},
   "outputs": [],
   "source": []
  }
 ],
 "metadata": {
  "kernelspec": {
   "display_name": "envrag (3.11.5)",
   "language": "python",
   "name": "python3"
  },
  "language_info": {
   "codemirror_mode": {
    "name": "ipython",
    "version": 3
   },
   "file_extension": ".py",
   "mimetype": "text/x-python",
   "name": "python",
   "nbconvert_exporter": "python",
   "pygments_lexer": "ipython3",
   "version": "3.11.5"
  }
 },
 "nbformat": 4,
 "nbformat_minor": 5
}
