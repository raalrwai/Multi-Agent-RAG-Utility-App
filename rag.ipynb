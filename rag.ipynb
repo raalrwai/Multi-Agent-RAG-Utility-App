{
 "cells": [
  {
   "cell_type": "code",
   "execution_count": 1,
   "id": "ff95c658",
   "metadata": {},
   "outputs": [],
   "source": [
    "import os\n",
    "\n",
    "import numpy as np\n",
    "import pandas as pd\n",
    "\n",
    "import cv2\n",
    "import zipfile\n",
    "from pdf2image import convert_from_path"
   ]
  },
  {
   "cell_type": "code",
   "execution_count": 2,
   "id": "7e619e3d",
   "metadata": {},
   "outputs": [],
   "source": [
    "from openai import OpenAI\n",
    "from pinecone import Pinecone\n",
    "from dotenv import load_dotenv"
   ]
  },
  {
   "cell_type": "markdown",
   "id": "a8785f50",
   "metadata": {},
   "source": []
  },
  {
   "cell_type": "code",
   "execution_count": 3,
   "id": "048d91b1",
   "metadata": {},
   "outputs": [],
   "source": [
    "cur_dir = os.getcwd()\n",
    "zip_file_path = 'Electricity_bills.zip'\n",
    "data_dir = os.path.join(cur_dir,'data\\\\')\n",
    "pdf_dir = os.path.join(data_dir, 'pdf\\\\')\n",
    "\n",
    "if not os.path.exists(data_dir):\n",
    "    os.mkdir(data_dir)\n",
    "\n",
    "if not os.path.exists(pdf_dir):\n",
    "    os.mkdir(pdf_dir)\n",
    "\n",
    "with zipfile.ZipFile(zip_file_path, 'r') as zip_file:\n",
    "    zip_file.extractall(pdf_dir)"
   ]
  },
  {
   "cell_type": "code",
   "execution_count": 4,
   "id": "e180b90b",
   "metadata": {},
   "outputs": [],
   "source": [
    "jpeg_dir = os.path.join(data_dir, 'jpeg\\\\')\n",
    "if not os.path.exists(jpeg_dir):\n",
    "    os.mkdir(jpeg_dir)\n",
    "\n",
    "\n",
    "for pdf in os.listdir(pdf_dir):\n",
    "    image = convert_from_path(os.path.join(pdf_dir,pdf))\n",
    "    image[0].save(os.path.join(jpeg_dir,pdf[:-4]+'.jpeg'), 'JPEG')"
   ]
  },
  {
   "cell_type": "code",
   "execution_count": 5,
   "id": "cbdac833",
   "metadata": {},
   "outputs": [],
   "source": [
    "load_dotenv()\n",
    "os.environ['OPENAI_API_KEY'] = os.getenv('OPENAI_API_KEY')\n",
    "client = OpenAI()"
   ]
  },
  {
   "cell_type": "code",
   "execution_count": 6,
   "id": "7fb896da",
   "metadata": {},
   "outputs": [],
   "source": [
    "def vision_embed_file(file_name, multi_modal_model='gpt-4.1-mini', embedding_model='text-embedding-3-small'):\n",
    "  def create_file(file_path):\n",
    "    with open(file_path, \"rb\") as file_content:\n",
    "      result = client.files.create(\n",
    "          file=file_content,\n",
    "          purpose=\"vision\",\n",
    "      )\n",
    "      return result.id\n",
    "\n",
    "  file_id = create_file(file_name)\n",
    "\n",
    "  response = client.responses.create(\n",
    "      model = multi_modal_model,\n",
    "      input=[{\n",
    "            'role':'user',\n",
    "            'content':[{\n",
    "                'type': 'input_text',\n",
    "                    'text': 'what\\'s in this image?'},\n",
    "                {'type':'input_image',\n",
    "                    'file_id':file_id}\n",
    "            ]\n",
    "      }]\n",
    "  )\n",
    "  caption = response.output_text\n",
    "  embedding_object = client.embeddings.create(input=caption, model=embedding_model)\n",
    "  vector = embedding_object.data[0].embedding\n",
    "\n",
    "  # Display Results\n",
    "  # Display Image from URL\n",
    "  # os.system('wget %s' %image_url_)\n",
    "  # file_name=str(image_url_).split(\"/\")[-1]\n",
    "#   print(file_name)\n",
    "#   img = cv2.imread(file_name)\n",
    "#   cv2_imshow(img)\n",
    "#   print(caption)\n",
    "#   print(\"Summary Length in characters:\"+str(len(caption)))\n",
    "\n",
    "\n",
    "  return_dict = {'image_caption': caption, 'file_id':file_id, 'embedding':vector}\n",
    "\n",
    "  return return_dict\n",
    "\n"
   ]
  },
  {
   "cell_type": "code",
   "execution_count": 16,
   "id": "5e49039b",
   "metadata": {},
   "outputs": [],
   "source": [
    "def get_embeddings(text, model=\"text-embedding-3-small\"):\n",
    "    text = text.replace(\"\\n\",\" \")\n",
    "    return client.embeddings.create(input=text, model=model).data[0].embedding"
   ]
  },
  {
   "cell_type": "code",
   "execution_count": 7,
   "id": "b2e67035",
   "metadata": {},
   "outputs": [],
   "source": [
    "df = pd.DataFrame(columns=['id', 'values', 'metadata'])\n",
    "\n",
    "i=0\n",
    "for jpeg in os.listdir(jpeg_dir):\n",
    "    file_path = os.path.join(jpeg_dir, jpeg)\n",
    "    embedding = vision_embed_file(file_path)\n",
    "    df.loc[i] = [embedding['file_id'], embedding['embedding'], {'caption':embedding['image_caption']}]\n",
    "    i += 1\n",
    "\n",
    "df.to_csv(os.path.join(data_dir, 'embeds.csv'), index=False)"
   ]
  },
  {
   "cell_type": "code",
   "execution_count": 8,
   "id": "2bb3fc00",
   "metadata": {},
   "outputs": [
    {
     "name": "stderr",
     "output_type": "stream",
     "text": [
      "c:\\Users\\Rami Alrwais\\Desktop\\Project3\\envrag\\Lib\\site-packages\\tqdm\\auto.py:21: TqdmWarning: IProgress not found. Please update jupyter and ipywidgets. See https://ipywidgets.readthedocs.io/en/stable/user_install.html\n",
      "  from .autonotebook import tqdm as notebook_tqdm\n"
     ]
    },
    {
     "data": {
      "text/plain": [
       "{'dimension': 1536,\n",
       " 'index_fullness': 0.0,\n",
       " 'metric': 'cosine',\n",
       " 'namespaces': {'': {'vector_count': 23}},\n",
       " 'total_vector_count': 23,\n",
       " 'vector_type': 'dense'}"
      ]
     },
     "execution_count": 8,
     "metadata": {},
     "output_type": "execute_result"
    }
   ],
   "source": [
    "pc = Pinecone(api_key=os.getenv('PINECONE_API_KEY'))\n",
    "index = pc.Index('retrieval-augmented-generation')\n",
    "index.describe_index_stats()\n"
   ]
  },
  {
   "cell_type": "code",
   "execution_count": null,
   "id": "3f91acc5",
   "metadata": {},
   "outputs": [],
   "source": [
    "def augmented_query(user_query, embed_model='text-embedding-3-small',k=5):\n",
    "    contexts,query = get_context(user_query,embed_model = embed_model,k=k)\n",
    "    return \"\\n\\n--------------------------\\n\\n\".join(contexts)+\"\\n\\n--------------------------\\n\\n\" + query"
   ]
  },
  {
   "cell_type": "code",
   "execution_count": null,
   "id": "3fea1a7f",
   "metadata": {},
   "outputs": [],
   "source": [
    "def augmented_query(user_query, embed_model='text-embedding-3-small',k=5):\n",
    "    contexts,query = get_context(user_query,embed_model = embed_model,k=k)\n",
    "    return \"\\n\\n--------------------------\\n\\n\".join(contexts)+\"\\n\\n--------------------------\\n\\n\" + query"
   ]
  },
  {
   "cell_type": "code",
   "execution_count": null,
   "id": "e684a57d",
   "metadata": {},
   "outputs": [],
   "source": [
    "def augmented_query(user_query, embed_model='text-embedding-3-small',k=5):\n",
    "    contexts,query = get_context(user_query,embed_model = embed_model,k=k)\n",
    "    return \"\\n\\n--------------------------\\n\\n\".join(contexts)+\"\\n\\n--------------------------\\n\\n\" + query"
   ]
  },
  {
   "cell_type": "code",
   "execution_count": null,
   "id": "59d9b162",
   "metadata": {},
   "outputs": [],
   "source": [
    "def augmented_query(user_query, embed_model='text-embedding-3-small',k=5):\n",
    "    contexts,query = get_context(user_query,embed_model = embed_model,k=k)\n",
    "    return \"\\n\\n--------------------------\\n\\n\".join(contexts)+\"\\n\\n--------------------------\\n\\n\" + query"
   ]
  },
  {
   "cell_type": "code",
   "execution_count": null,
   "id": "7820dbe3",
   "metadata": {},
   "outputs": [],
   "source": [
    "def augmented_query(user_query, embed_model='text-embedding-3-small',k=5):\n",
    "    contexts,query = get_context(user_query,embed_model = embed_model,k=k)\n",
    "    return \"\\n\\n--------------------------\\n\\n\".join(contexts)+\"\\n\\n--------------------------\\n\\n\" + query"
   ]
  },
  {
   "cell_type": "code",
   "execution_count": null,
   "id": "2600fa9a",
   "metadata": {},
   "outputs": [],
   "source": [
    "def augmented_query(user_query, embed_model='text-embedding-3-small',k=5):\n",
    "    contexts,query = get_context(user_query,embed_model = embed_model,k=k)\n",
    "    return \"\\n\\n--------------------------\\n\\n\".join(contexts)+\"\\n\\n--------------------------\\n\\n\" + query"
   ]
  },
  {
   "cell_type": "code",
   "execution_count": null,
   "id": "8d383158",
   "metadata": {},
   "outputs": [],
   "source": [
    "def augmented_query(user_query, embed_model='text-embedding-3-small',k=5):\n",
    "    contexts,query = get_context(user_query,embed_model = embed_model,k=k)\n",
    "    return \"\\n\\n--------------------------\\n\\n\".join(contexts)+\"\\n\\n--------------------------\\n\\n\" + query"
   ]
  },
  {
   "cell_type": "code",
   "execution_count": null,
   "id": "f63bbf9f",
   "metadata": {},
   "outputs": [],
   "source": [
    "def augmented_query(user_query, embed_model='text-embedding-3-small',k=5):\n",
    "    contexts,query = get_context(user_query,embed_model = embed_model,k=k)\n",
    "    return \"\\n\\n--------------------------\\n\\n\".join(contexts)+\"\\n\\n--------------------------\\n\\n\" + query"
   ]
  },
  {
   "cell_type": "code",
   "execution_count": null,
   "id": "207ab16c",
   "metadata": {},
   "outputs": [],
   "source": [
    "def augmented_query(user_query, embed_model='text-embedding-3-small',k=5):\n",
    "    contexts,query = get_context(user_query,embed_model = embed_model,k=k)\n",
    "    return \"\\n\\n--------------------------\\n\\n\".join(contexts)+\"\\n\\n--------------------------\\n\\n\" + query"
   ]
  },
  {
   "cell_type": "code",
   "execution_count": null,
   "id": "668f5815",
   "metadata": {},
   "outputs": [],
   "source": [
    "def augmented_query(user_query, embed_model='text-embedding-3-small',k=5):\n",
    "    contexts,query = get_context(user_query,embed_model = embed_model,k=k)\n",
    "    return \"\\n\\n--------------------------\\n\\n\".join(contexts)+\"\\n\\n--------------------------\\n\\n\" + query"
   ]
  },
  {
   "cell_type": "code",
   "execution_count": null,
   "id": "7459f769",
   "metadata": {},
   "outputs": [],
   "source": [
    "def augmented_query(user_query, embed_model='text-embedding-3-small',k=5):\n",
    "    contexts,query = get_context(user_query,embed_model = embed_model,k=k)\n",
    "    return \"\\n\\n--------------------------\\n\\n\".join(contexts)+\"\\n\\n--------------------------\\n\\n\" + query"
   ]
  },
  {
   "cell_type": "code",
   "execution_count": null,
   "id": "ea2899d6",
   "metadata": {},
   "outputs": [],
   "source": [
    "def augmented_query(user_query, embed_model='text-embedding-3-small',k=5):\n",
    "    contexts,query = get_context(user_query,embed_model = embed_model,k=k)\n",
    "    return \"\\n\\n--------------------------\\n\\n\".join(contexts)+\"\\n\\n--------------------------\\n\\n\" + query"
   ]
  },
  {
   "cell_type": "code",
   "execution_count": null,
   "id": "5378578b",
   "metadata": {},
   "outputs": [],
   "source": [
    "def augmented_query(user_query, embed_model='text-embedding-3-small',k=5):\n",
    "    contexts,query = get_context(user_query,embed_model = embed_model,k=k)\n",
    "    return \"\\n\\n--------------------------\\n\\n\".join(contexts)+\"\\n\\n--------------------------\\n\\n\" + query"
   ]
  },
  {
   "cell_type": "code",
   "execution_count": null,
   "id": "f0f072bd",
   "metadata": {},
   "outputs": [],
   "source": [
    "def augmented_query(user_query, embed_model='text-embedding-3-small',k=5):\n",
    "    contexts,query = get_context(user_query,embed_model = embed_model,k=k)\n",
    "    return \"\\n\\n--------------------------\\n\\n\".join(contexts)+\"\\n\\n--------------------------\\n\\n\" + query"
   ]
  },
  {
   "cell_type": "code",
   "execution_count": null,
   "id": "6db601b2",
   "metadata": {},
   "outputs": [],
   "source": [
    "def augmented_query(user_query, embed_model='text-embedding-3-small',k=5):\n",
    "    contexts,query = get_context(user_query,embed_model = embed_model,k=k)\n",
    "    return \"\\n\\n--------------------------\\n\\n\".join(contexts)+\"\\n\\n--------------------------\\n\\n\" + query"
   ]
  },
  {
   "cell_type": "code",
   "execution_count": null,
   "id": "7a89e0dc",
   "metadata": {},
   "outputs": [],
   "source": [
    "def augmented_query(user_query, embed_model='text-embedding-3-small',k=5):\n",
    "    contexts,query = get_context(user_query,embed_model = embed_model,k=k)\n",
    "    return \"\\n\\n--------------------------\\n\\n\".join(contexts)+\"\\n\\n--------------------------\\n\\n\" + query"
   ]
  },
  {
   "cell_type": "code",
   "execution_count": null,
   "id": "5bae083e",
   "metadata": {},
   "outputs": [],
   "source": [
    "def augmented_query(user_query, embed_model='text-embedding-3-small',k=5):\n",
    "    contexts,query = get_context(user_query,embed_model = embed_model,k=k)\n",
    "    return \"\\n\\n--------------------------\\n\\n\".join(contexts)+\"\\n\\n--------------------------\\n\\n\" + query"
   ]
  },
  {
   "cell_type": "code",
   "execution_count": 9,
   "id": "43656a18",
   "metadata": {},
   "outputs": [],
   "source": [
    "def prepare_DF(df):\n",
    "  import json,ast\n",
    "  try: df=df.drop('Unnamed: 0',axis=1)\n",
    "  except: print('Unnamed Not Found')\n",
    "  df['values']=df['values'].apply(lambda x: np.array([float(i) for i in x.replace(\"[\",'').replace(\"]\",'').split(',')]))\n",
    "  df['metadata']=df['metadata'].apply(lambda x: ast.literal_eval(x))\n",
    "  return df"
   ]
  },
  {
   "cell_type": "code",
   "execution_count": 10,
   "id": "79e7a77c",
   "metadata": {},
   "outputs": [
    {
     "name": "stdout",
     "output_type": "stream",
     "text": [
      "Unnamed Not Found\n"
     ]
    }
   ],
   "source": [
    "index_df = prepare_DF(pd.read_csv(os.path.join(data_dir,'embeds.csv')))"
   ]
  },
  {
   "cell_type": "code",
   "execution_count": 11,
   "id": "d0fe143b",
   "metadata": {},
   "outputs": [],
   "source": [
    "upsert_vectors = list(index_df.itertuples(index=False, name=None))"
   ]
  },
  {
   "cell_type": "code",
   "execution_count": 12,
   "id": "bccc7e51",
   "metadata": {},
   "outputs": [
    {
     "data": {
      "text/plain": [
       "{'upserted_count': 20}"
      ]
     },
     "execution_count": 12,
     "metadata": {},
     "output_type": "execute_result"
    }
   ],
   "source": [
    "index.upsert(vectors=upsert_vectors)"
   ]
  },
  {
   "cell_type": "code",
   "execution_count": 13,
   "id": "9f6743fe",
   "metadata": {},
   "outputs": [
    {
     "data": {
      "text/plain": [
       "{'dimension': 1536,\n",
       " 'index_fullness': 0.0,\n",
       " 'metric': 'cosine',\n",
       " 'namespaces': {'': {'vector_count': 23}},\n",
       " 'total_vector_count': 23,\n",
       " 'vector_type': 'dense'}"
      ]
     },
     "execution_count": 13,
     "metadata": {},
     "output_type": "execute_result"
    }
   ],
   "source": [
    "index.describe_index_stats()"
   ]
  },
  {
   "cell_type": "code",
   "execution_count": 21,
   "id": "123d9d0f",
   "metadata": {},
   "outputs": [],
   "source": [
    "sample_text = \"What bills are due?\""
   ]
  },
  {
   "cell_type": "code",
   "execution_count": 22,
   "id": "065454be",
   "metadata": {},
   "outputs": [],
   "source": [
    "test_embeddings = get_embeddings(sample_text)"
   ]
  },
  {
   "cell_type": "code",
   "execution_count": 18,
   "id": "13cfe61a",
   "metadata": {},
   "outputs": [
    {
     "data": {
      "text/plain": [
       "{'matches': [{'id': 'file-4DbDBqnxMH7WnmQZaX2y9w',\n",
       "              'metadata': {'caption': 'This image is of an electricity bill '\n",
       "                                      'from AEP Ohio. Here are the key details '\n",
       "                                      'from the bill:\\n'\n",
       "                                      '\\n'\n",
       "                                      '- Billing period: 12/07/2020 to '\n",
       "                                      '01/02/2021 (26 days)\\n'\n",
       "                                      '- Account number: 893-180137-3-3\\n'\n",
       "                                      '- Meter number: 268714261\\n'\n",
       "                                      '- Service address: Elizabeth Hernandez, '\n",
       "                                      '1336 River Rd, Marietta, OH 44503\\n'\n",
       "                                      '- Amount due: $218.05 (due on or before '\n",
       "                                      'January 13, 2021)\\n'\n",
       "                                      '\\n'\n",
       "                                      'Line item charges include:\\n'\n",
       "                                      '- Supply Charge (1151 kWh): $102.62\\n'\n",
       "                                      '- Delivery Charge: $70.37\\n'\n",
       "                                      '- Customer Charge: $14.62\\n'\n",
       "                                      '- Retail Stability / Riders: $0.52\\n'\n",
       "                                      '- Estimated Taxes & Assessments: '\n",
       "                                      '$13.71\\n'\n",
       "                                      '- Total Current Charges: $201.84\\n'\n",
       "                                      '\\n'\n",
       "                                      'Usage details:\\n'\n",
       "                                      '- Total usage for the past 12 months: '\n",
       "                                      '9888 kWh\\n'\n",
       "                                      '- Average monthly usage: 824 kWh\\n'\n",
       "                                      '- Average daily cost: $7.48\\n'\n",
       "                                      '- Average temperature: 32 °F\\n'\n",
       "                                      '- Meter read details: previous - '\n",
       "                                      '2093749, current - 2094900, usage - '\n",
       "                                      '1151 kWh\\n'\n",
       "                                      '\\n'\n",
       "                                      'There is also a payment stub section '\n",
       "                                      'reiterating the account number, amount '\n",
       "                                      'due, and due date for return with '\n",
       "                                      'payment.'},\n",
       "              'score': 0.452742577,\n",
       "              'values': []},\n",
       "             {'id': 'file-5CjY3PWZ3aMgCRxQEkX39i',\n",
       "              'metadata': {'caption': 'This image is an electricity bill from '\n",
       "                                      'AEP Ohio. \\n'\n",
       "                                      '\\n'\n",
       "                                      'Key details include:\\n'\n",
       "                                      '\\n'\n",
       "                                      '- Billing period: 03/08/2018 to '\n",
       "                                      '04/03/2018 (26 days)\\n'\n",
       "                                      '- Account number: 890-956201-6-4\\n'\n",
       "                                      '- Meter number: 879681134\\n'\n",
       "                                      '- Service address: Susan Moore, 6865 '\n",
       "                                      'Pine St, Columbus, OH 44701\\n'\n",
       "                                      '- Amount due: $96.91, due on or before '\n",
       "                                      'April 14, 2018\\n'\n",
       "                                      '\\n'\n",
       "                                      'Line item charges:\\n'\n",
       "                                      '- Supply Charge (500 kWh): $43.28\\n'\n",
       "                                      '- Delivery Charge: $33.47\\n'\n",
       "                                      '- Customer Charge: $8.27\\n'\n",
       "                                      '- Retail Stability / Riders: $4.09\\n'\n",
       "                                      '- Estimated Taxes & Assessments: $7.80\\n'\n",
       "                                      '\\n'\n",
       "                                      'Total current charges: $96.91\\n'\n",
       "                                      '\\n'\n",
       "                                      'Usage details:\\n'\n",
       "                                      '- Total usage for past 12 months: 5786 '\n",
       "                                      'kWh\\n'\n",
       "                                      '- Average monthly usage: 482 kWh\\n'\n",
       "                                      '- Average daily cost: $3.59\\n'\n",
       "                                      '- Average temperature: 68°F\\n'\n",
       "                                      '- Meter readings: Previous 5320473, '\n",
       "                                      'Current 5320973, Usage: 500 kWh\\n'\n",
       "                                      '\\n'\n",
       "                                      'There is also a payment stub at the '\n",
       "                                      'bottom with the account number, amount, '\n",
       "                                      'and due date for returning with '\n",
       "                                      'payment.'},\n",
       "              'score': 0.449129105,\n",
       "              'values': []},\n",
       "             {'id': 'file-3kYLmPHL8PPqfM5p3Ys7SQ',\n",
       "              'metadata': {'caption': 'This image shows a utility bill from '\n",
       "                                      'AEP Ohio. \\n'\n",
       "                                      '\\n'\n",
       "                                      'Key details include:\\n'\n",
       "                                      '\\n'\n",
       "                                      '- Billing period: 12/07/2020 - '\n",
       "                                      '01/02/2021 (26 days)\\n'\n",
       "                                      '- Account number: 893-180137-3-3\\n'\n",
       "                                      '- Meter number: 268714261\\n'\n",
       "                                      '- Service address: Elizabeth Hernandez, '\n",
       "                                      '1336 River Rd, Marietta, OH 44503\\n'\n",
       "                                      '- Amount due: $218.05 (due on or before '\n",
       "                                      'January 13, 2021)\\n'\n",
       "                                      '\\n'\n",
       "                                      'Line item charges breakdown:\\n'\n",
       "                                      '- Supply Charge (1151 kWh): $102.62\\n'\n",
       "                                      '- Delivery Charge: $70.37\\n'\n",
       "                                      '- Customer Charge: $14.62\\n'\n",
       "                                      '- Retail Stability / Riders: $0.52\\n'\n",
       "                                      '- Estimated Taxes & Assessments: '\n",
       "                                      '$13.71\\n'\n",
       "                                      '- Total Current Charges: $201.84\\n'\n",
       "                                      '\\n'\n",
       "                                      'Usage details:\\n'\n",
       "                                      '- Total usage for the past 12 months: '\n",
       "                                      '9,888 kWh\\n'\n",
       "                                      '- Average monthly usage: 824 kWh\\n'\n",
       "                                      '- Average daily cost: $7.48\\n'\n",
       "                                      '- Average temperature: 32 °F\\n'\n",
       "                                      '- Meter read details: previous reading '\n",
       "                                      '2,093,749; current reading 2,094,900; '\n",
       "                                      'usage 1,151 kWh\\n'\n",
       "                                      '\\n'\n",
       "                                      'A payment stub is included at the '\n",
       "                                      'bottom with the same amount due and due '\n",
       "                                      'date.'},\n",
       "              'score': 0.448272705,\n",
       "              'values': []},\n",
       "             {'id': 'file-53viqyp4ePng9p983MWcAw',\n",
       "              'metadata': {'caption': 'This image shows an electric utility '\n",
       "                                      'bill from AEP Ohio. \\n'\n",
       "                                      '\\n'\n",
       "                                      'Key details include:\\n'\n",
       "                                      '- Billing period: 03/22/2021 to '\n",
       "                                      '04/23/2021 (32 days)\\n'\n",
       "                                      '- Account number: 907-737655-5-7\\n'\n",
       "                                      '- Meter number: 245875972\\n'\n",
       "                                      '- Service address: Linda Jackson, 7992 '\n",
       "                                      'Elm St, Toledo, OH 43055\\n'\n",
       "                                      '- Amount due: $152.12 (due on or before '\n",
       "                                      'May 05, 2021)\\n'\n",
       "                                      '\\n'\n",
       "                                      'Line item charges are:\\n'\n",
       "                                      '- Supply Charge (1274 kWh): $72.34\\n'\n",
       "                                      '- Delivery Charge: $58.95\\n'\n",
       "                                      '- Customer Charge: $7.44\\n'\n",
       "                                      '- Retail Stability / Riders: $4.55\\n'\n",
       "                                      '- Estimated Taxes & Assessments: $8.84\\n'\n",
       "                                      '\\n'\n",
       "                                      'Usage details:\\n'\n",
       "                                      '- Total usage for the past 12 months: '\n",
       "                                      '13,322 kWh\\n'\n",
       "                                      '- Average monthly usage: 1,110 kWh\\n'\n",
       "                                      '- Average daily cost: $4.61\\n'\n",
       "                                      '- Average temperature: 72 °F\\n'\n",
       "                                      '- Meter read details: Previous reading '\n",
       "                                      '5,247,505, Current reading 5,246,979, '\n",
       "                                      'Usage 1274 kWh\\n'\n",
       "                                      '\\n'\n",
       "                                      'At the bottom, there is also a payment '\n",
       "                                      'stub with account number, amount due, '\n",
       "                                      'and due date information.'},\n",
       "              'score': 0.44785881,\n",
       "              'values': []},\n",
       "             {'id': 'file-3cearcW8my2ESiF5QFJ8ow',\n",
       "              'metadata': {'caption': 'This image is a utility bill from AEP '\n",
       "                                      'Ohio. The bill details are as follows:\\n'\n",
       "                                      '\\n'\n",
       "                                      '- Billing period: 09/16/2018 to '\n",
       "                                      '10/21/2018 (35 days)\\n'\n",
       "                                      '- Account number: 303-225358-9-6\\n'\n",
       "                                      '- Meter number: 542867060\\n'\n",
       "                                      '- Service address: Charles Taylor, 2371 '\n",
       "                                      'Cedar Ln, Cincinnati, OH 44101\\n'\n",
       "                                      '- Amount due: $77.45 (due on or before '\n",
       "                                      'November 07, 2018)\\n'\n",
       "                                      '\\n'\n",
       "                                      'Line item charges include:\\n'\n",
       "                                      '- Supply Charge (292 kWh): $27.69\\n'\n",
       "                                      '- Delivery Charge: $26.89\\n'\n",
       "                                      '- Customer Charge: $11.63\\n'\n",
       "                                      '- Retail Stability / Riders: $5.14\\n'\n",
       "                                      '- Estimated Taxes & Assessments: $6.10\\n'\n",
       "                                      '- Total Current Charges: $77.45\\n'\n",
       "                                      '\\n'\n",
       "                                      'Usage details:\\n'\n",
       "                                      '- Total usage for the past 12 months: '\n",
       "                                      '11132 kWh\\n'\n",
       "                                      '- Average monthly usage: 927 kWh\\n'\n",
       "                                      '- Average daily cost: $2.15\\n'\n",
       "                                      '- Average temperature: 36 °F\\n'\n",
       "                                      '- Meter read details: Previous reading '\n",
       "                                      '3314665, Current reading 3314957, Usage '\n",
       "                                      '292 kWh\\n'\n",
       "                                      '\\n'\n",
       "                                      'The bottom section includes a payment '\n",
       "                                      'stub with the account number, amount '\n",
       "                                      'due, and due date.'},\n",
       "              'score': 0.447725296,\n",
       "              'values': []}],\n",
       " 'namespace': '',\n",
       " 'usage': {'read_units': 1}}"
      ]
     },
     "execution_count": 18,
     "metadata": {},
     "output_type": "execute_result"
    }
   ],
   "source": [
    "index.query(vector=test_embeddings, top_k=5,include_metadata=True)"
   ]
  },
  {
   "cell_type": "code",
   "execution_count": 23,
   "id": "a134cf32",
   "metadata": {},
   "outputs": [],
   "source": [
    "def get_context(query, embed_model = 'text-embedding-3-small',k=5,index=index):\n",
    "    query_embeddings = get_embeddings(query,model=embed_model)\n",
    "    pinecone_response = index.query(vector=query_embeddings,top_k=k,include_metadata=True)\n",
    "    contexts = [item['metadata']['caption'] for item in pinecone_response['matches']]\n",
    "    return contexts, query"
   ]
  },
  {
   "cell_type": "code",
   "execution_count": 24,
   "id": "1fb792df",
   "metadata": {},
   "outputs": [
    {
     "data": {
      "text/plain": [
       "(['This image shows a utility bill from AEP Ohio. \\n\\nKey details include:\\n\\n- Billing period: 12/07/2020 - 01/02/2021 (26 days)\\n- Account number: 893-180137-3-3\\n- Meter number: 268714261\\n- Service address: Elizabeth Hernandez, 1336 River Rd, Marietta, OH 44503\\n- Amount due: $218.05 (due on or before January 13, 2021)\\n\\nLine item charges breakdown:\\n- Supply Charge (1151 kWh): $102.62\\n- Delivery Charge: $70.37\\n- Customer Charge: $14.62\\n- Retail Stability / Riders: $0.52\\n- Estimated Taxes & Assessments: $13.71\\n- Total Current Charges: $201.84\\n\\nUsage details:\\n- Total usage for the past 12 months: 9,888 kWh\\n- Average monthly usage: 824 kWh\\n- Average daily cost: $7.48\\n- Average temperature: 32 °F\\n- Meter read details: previous reading 2,093,749; current reading 2,094,900; usage 1,151 kWh\\n\\nA payment stub is included at the bottom with the same amount due and due date.',\n",
       "  'This image is a utility bill from AEP Ohio, detailing the electricity usage and charges for a billing period from February 1, 2022, to March 3, 2022 (30 days). It includes the following information:\\n\\n- Account number: 315-821911-1-3\\n- Meter number: 915230394\\n- Service address: Linda Wilson, 1271 Main St, Canton, OH 44301\\n- Total amount due: $114.73, payable on or before March 11, 2022\\n\\nLine Item Charges:\\n- Supply Charge (586 kWh): $51.75\\n- Delivery Charge: $44.52\\n- Customer Charge: $7.64\\n- Retail Stability / Riders: $5.26\\n- Estimated Taxes & Assessments: $5.56\\n- Total Current Charges: $114.73\\n\\nUsage Details:\\n- Total usage for the past 12 months: 5229 kWh\\n- Average monthly usage: 435 kWh\\n- Average daily cost: $3.70\\n- Average temperature: 40°F\\n- Meter read details: Previous reading 9263658, Current reading 9264244, Usage 586 kWh\\n\\nThere is also a payment stub at the bottom with the account number, amount due, and due date for return with payment. The bill provides contact information for customer operations and instructions for payment.',\n",
       "  'This image shows an electricity bill from AEP Ohio. Here are some key details from the bill:\\n\\n- Billing period: 07/23/2020 to 08/25/2020 (33 days)\\n- Amount due: $64.20\\n- Due date: On or before September 10, 2020\\n- Account number: 336-609772-0-3\\n- Meter number: 362910245\\n- Service address: James Smith, 5318 Cedar Ln, Cleveland, OH 44701\\n\\nLine Item Charges:\\n- Supply Charge (253 kWh): $18.85\\n- Delivery Charge: $25.72\\n- Customer Charge: $13.89\\n- Retail Stability / Riders: $0.98\\n- Estimated Taxes & Assessments: $4.76\\n\\nTotal charges add up to $64.20.\\n\\nUsage details include:\\n- Total usage for the past 12 months: 4910 kWh\\n- Average monthly usage: 409 kWh\\n- Average daily cost: $1.89\\n- Average temperature: 31°F\\n- Meter readings show usage of 253 kWh.\\n\\nThere is also a payment stub at the bottom with the amount and due date for payment.',\n",
       "  'This image shows an electric utility bill from AEP Ohio. \\n\\nKey details include:\\n- Billing period: 03/22/2021 to 04/23/2021 (32 days)\\n- Account number: 907-737655-5-7\\n- Meter number: 245875972\\n- Service address: Linda Jackson, 7992 Elm St, Toledo, OH 43055\\n- Amount due: $152.12 (due on or before May 05, 2021)\\n\\nLine item charges are:\\n- Supply Charge (1274 kWh): $72.34\\n- Delivery Charge: $58.95\\n- Customer Charge: $7.44\\n- Retail Stability / Riders: $4.55\\n- Estimated Taxes & Assessments: $8.84\\n\\nUsage details:\\n- Total usage for the past 12 months: 13,322 kWh\\n- Average monthly usage: 1,110 kWh\\n- Average daily cost: $4.61\\n- Average temperature: 72 °F\\n- Meter read details: Previous reading 5,247,505, Current reading 5,246,979, Usage 1274 kWh\\n\\nAt the bottom, there is also a payment stub with account number, amount due, and due date information.',\n",
       "  'This image is a utility bill from AEP Ohio for the service address at 5335 Market St, Akron, OH 43215, under the name Jessica Jackson. The bill is for the billing period from February 14, 2022, to March 15, 2022 (29 days). \\n\\nKey details:\\n- Amount due: $82.45\\n- Due date: On or before March 24, 2022\\n- Account number: 914-965861-9-2\\n- Meter number: 447130639\\n\\nLine item charges include:\\n- Supply Charge (260 kWh): $24.13\\n- Delivery Charge: $31.46\\n- Customer Charge: $15.66\\n- Retail Stability / Riders: $5.65\\n- Estimated Taxes & Assessments: $5.55\\n\\nThe total current charges add up to $82.45.\\n\\nUsage details mention:\\n- Total usage for the past 12 months: 8771 kWh\\n- Average monthly usage: 730 kWh\\n- Average daily cost: $2.75\\n- Average temperature: 67 °F\\n- Meter read details: Previous reading 5,491,409; Current reading 5,491,669; usage 260 kWh during the billing period.\\n\\nThere is a payment stub section at the bottom for returning with payment.'],\n",
       " 'Tell me about Avg. monthly usage')"
      ]
     },
     "execution_count": 24,
     "metadata": {},
     "output_type": "execute_result"
    }
   ],
   "source": [
    "get_context(\"Tell me about Avg. monthly usage\")"
   ]
  },
  {
   "cell_type": "code",
   "execution_count": 25,
   "id": "8c68d72e",
   "metadata": {},
   "outputs": [],
   "source": [
    "def augmented_query(user_query, embed_model='text-embedding-3-small',k=5):\n",
    "    contexts,query = get_context(user_query,embed_model = embed_model,k=k)\n",
    "    return \"\\n\\n--------------------------\\n\\n\".join(contexts)+\"\\n\\n--------------------------\\n\\n\" + query"
   ]
  },
  {
   "cell_type": "code",
   "execution_count": 26,
   "id": "014736ef",
   "metadata": {},
   "outputs": [
    {
     "name": "stdout",
     "output_type": "stream",
     "text": [
      "This image is a utility bill from AEP Ohio, detailing the electricity usage and charges for a billing period from February 1, 2022, to March 3, 2022 (30 days). It includes the following information:\n",
      "\n",
      "- Account number: 315-821911-1-3\n",
      "- Meter number: 915230394\n",
      "- Service address: Linda Wilson, 1271 Main St, Canton, OH 44301\n",
      "- Total amount due: $114.73, payable on or before March 11, 2022\n",
      "\n",
      "Line Item Charges:\n",
      "- Supply Charge (586 kWh): $51.75\n",
      "- Delivery Charge: $44.52\n",
      "- Customer Charge: $7.64\n",
      "- Retail Stability / Riders: $5.26\n",
      "- Estimated Taxes & Assessments: $5.56\n",
      "- Total Current Charges: $114.73\n",
      "\n",
      "Usage Details:\n",
      "- Total usage for the past 12 months: 5229 kWh\n",
      "- Average monthly usage: 435 kWh\n",
      "- Average daily cost: $3.70\n",
      "- Average temperature: 40°F\n",
      "- Meter read details: Previous reading 9263658, Current reading 9264244, Usage 586 kWh\n",
      "\n",
      "There is also a payment stub at the bottom with the account number, amount due, and due date for return with payment. The bill provides contact information for customer operations and instructions for payment.\n",
      "\n",
      "--------------------------\n",
      "\n",
      "This image shows an electric utility bill from AEP Ohio. \n",
      "\n",
      "Key details include:\n",
      "- Billing period: 03/22/2021 to 04/23/2021 (32 days)\n",
      "- Account number: 907-737655-5-7\n",
      "- Meter number: 245875972\n",
      "- Service address: Linda Jackson, 7992 Elm St, Toledo, OH 43055\n",
      "- Amount due: $152.12 (due on or before May 05, 2021)\n",
      "\n",
      "Line item charges are:\n",
      "- Supply Charge (1274 kWh): $72.34\n",
      "- Delivery Charge: $58.95\n",
      "- Customer Charge: $7.44\n",
      "- Retail Stability / Riders: $4.55\n",
      "- Estimated Taxes & Assessments: $8.84\n",
      "\n",
      "Usage details:\n",
      "- Total usage for the past 12 months: 13,322 kWh\n",
      "- Average monthly usage: 1,110 kWh\n",
      "- Average daily cost: $4.61\n",
      "- Average temperature: 72 °F\n",
      "- Meter read details: Previous reading 5,247,505, Current reading 5,246,979, Usage 1274 kWh\n",
      "\n",
      "At the bottom, there is also a payment stub with account number, amount due, and due date information.\n",
      "\n",
      "--------------------------\n",
      "\n",
      "This image is a utility bill from AEP Ohio for electricity usage. It contains the following information:\n",
      "\n",
      "- Customer Operations contact number: 1-844-237-6446 and website for viewing outage & billing: aepohio.com.\n",
      "- Billing period: From February 1, 2022, to March 3, 2022 (30 days).\n",
      "- Account Number: 315-821911-1-3.\n",
      "- Meter Number: 915230394.\n",
      "- Service Address: Linda Wilson, 1271 Main St, Canton, OH 44301.\n",
      "- Total Amount Due: $114.73, with a due date on or before March 11, 2022.\n",
      "\n",
      "Line Item Charges breakdown:\n",
      "- Supply Charge (586 kWh): $51.75.\n",
      "- Delivery Charge: $44.52.\n",
      "- Customer Charge: $7.64.\n",
      "- Retail Stability / Riders: $5.26.\n",
      "- Estimated Taxes & Assessments: $5.56.\n",
      "- Total Current Charges: $114.73.\n",
      "\n",
      "Usage Details:\n",
      "- Total usage for the past 12 months: 5229 kWh.\n",
      "- Average monthly usage: 435 kWh.\n",
      "- Average daily cost: $3.70.\n",
      "- Average temperature: 40°F.\n",
      "- Meter Read Details (Meter #915230394): Previous reading 9263658, Current reading 9264244, Usage 586 kWh.\n",
      "\n",
      "There is also a payment stub with the account number, the amount due ($114.73), and the due date (March 11, 2022) indicated for returning with payment.\n",
      "\n",
      "--------------------------\n",
      "\n",
      "This image shows an electricity bill from AEP Ohio. Here are some key details:\n",
      "\n",
      "- Billing period: 09/10/2018 to 10/13/2018 (33 days)\n",
      "- Account number: 874-169795-2-9\n",
      "- Meter number: 259348781\n",
      "- Service address: Elizabeth Davis, 1916 Oak St, Toledo, OH 45402\n",
      "- Amount due: $220.96\n",
      "- Due date: on or before October 23, 2018\n",
      "\n",
      "Line item charges include:\n",
      "- Supply Charge for 1166 kWh: $104.44\n",
      "- Delivery Charge: $50.46\n",
      "- Customer Charge: $13.71\n",
      "- Retail Stability / Riders: $5.89\n",
      "- Estimated Taxes & Assessments: $12.06\n",
      "- Total current charges: $186.56\n",
      "\n",
      "Usage details:\n",
      "- Total usage for the past 12 months: 6646 kWh\n",
      "- Average monthly usage: 553 kWh\n",
      "- Average daily cost: $5.49\n",
      "- Average temperature during billing period: 30°F\n",
      "- Meter read details: Previous reading 3088913, current 3090079, usage 1166 kWh\n",
      "\n",
      "The bottom section is a payment stub with account number, amount, and due date. It advises returning the stub with payment.\n",
      "\n",
      "--------------------------\n",
      "\n",
      "This image shows a utility bill from AEP Ohio. \n",
      "\n",
      "Key details include:\n",
      "\n",
      "- Billing period: 12/07/2020 - 01/02/2021 (26 days)\n",
      "- Account number: 893-180137-3-3\n",
      "- Meter number: 268714261\n",
      "- Service address: Elizabeth Hernandez, 1336 River Rd, Marietta, OH 44503\n",
      "- Amount due: $218.05 (due on or before January 13, 2021)\n",
      "\n",
      "Line item charges breakdown:\n",
      "- Supply Charge (1151 kWh): $102.62\n",
      "- Delivery Charge: $70.37\n",
      "- Customer Charge: $14.62\n",
      "- Retail Stability / Riders: $0.52\n",
      "- Estimated Taxes & Assessments: $13.71\n",
      "- Total Current Charges: $201.84\n",
      "\n",
      "Usage details:\n",
      "- Total usage for the past 12 months: 9,888 kWh\n",
      "- Average monthly usage: 824 kWh\n",
      "- Average daily cost: $7.48\n",
      "- Average temperature: 32 °F\n",
      "- Meter read details: previous reading 2,093,749; current reading 2,094,900; usage 1,151 kWh\n",
      "\n",
      "A payment stub is included at the bottom with the same amount due and due date.\n",
      "\n",
      "--------------------------\n",
      "\n",
      "Tell me about useage?\n"
     ]
    }
   ],
   "source": [
    "my_question = \"Tell me about useage?\"\n",
    "augg = augmented_query(my_question)\n",
    "print(augg)"
   ]
  },
  {
   "cell_type": "code",
   "execution_count": 27,
   "id": "3bc24aa6",
   "metadata": {},
   "outputs": [],
   "source": [
    "def ask_gpt_response(system_prompt, user_prompt, model='gpt-5-chat-latest'):\n",
    "  response = client.responses.create(\n",
    "      model=model,\n",
    "      input=[\n",
    "          {\"role\":\"developer\",\n",
    "          \"content\":system_prompt},\n",
    "          {\"role\":\"user\",\n",
    "           \"content\":user_prompt}])\n",
    "  return response.output_text, response"
   ]
  },
  {
   "cell_type": "code",
   "execution_count": 28,
   "id": "19b4270e",
   "metadata": {},
   "outputs": [],
   "source": [
    "import textwrap"
   ]
  },
  {
   "cell_type": "code",
   "execution_count": 29,
   "id": "92b01769",
   "metadata": {},
   "outputs": [],
   "source": [
    "primer = f\"\"\"\n",
    "You are a knowledgeable assistant specialized in answering questions about electric utility bills. \n",
    "You provide accurate and clear explanations based solely on the bill details and information provided above each question. \n",
    "If the information is not sufficient to answer the question, respond truthfully with, \"I don't know.\"\n",
    "\"\"\""
   ]
  },
  {
   "cell_type": "code",
   "execution_count": 30,
   "id": "c580efae",
   "metadata": {},
   "outputs": [
    {
     "name": "stdout",
     "output_type": "stream",
     "text": [
      "('Here’s an analysis of the **recent AEP Ohio electric bills** you described:  \\n\\n---\\n\\n### 🔹 Summary of the Four Bills\\n\\n| Customer | Billing Period | Days | Usage (kWh) | Amount Due | Avg. Daily Cost |\\n|-----------|----------------|------|--------------|-------------|----------------|\\n| **Susan Moore (Columbus)** | 03/08/2018 – 04/03/2018 | 26 | 500 | **$96.91** | $3.59 |\\n| **Charles Taylor (Cincinnati)** | 09/16/2018 – 10/21/2018 | 35 | 292 | **$77.45** | $2.15 |\\n| **Mary Miller (Dayton)** | 10/21/2019 – 11/20/2019 | 30 | 1439 | **$195.30** | $6.30 |\\n| **Elizabeth Hernandez (Marietta)** | 12/07/2020 – 01/02/2021 | 26 | 1151 | **$218.05** | $7.48 |\\n\\n---\\n\\n### 🔹 Observations & Trends\\n\\n1. **Electric Usage Variation**\\n   - Usage ranges widely from **292 kWh** to **1439 kWh**, showing how consumption can differ based on household size, season, or heating type.\\n   - The lowest usage (292 kWh) was in a **mild fall month**, while higher usage (1151–1439 kWh) occurred in **colder months**, suggesting heating-related electricity use.\\n\\n2. **Cost per kWh Estimate**\\n   - Susan Moore: ~$96.91 / 500 kWh = **$0.19/kWh**\\n   - Charles Taylor: ~$77.45 / 292 kWh = **$0.27/kWh**\\n   - Mary Miller: ~$195.30 / 1439 kWh = **$0.14/kWh**\\n   - Elizabeth Hernandez: ~$218.05 / 1151 kWh = **$0.19/kWh**  \\n   → Rates vary slightly due to taxes, riders, and service territory differences.\\n\\n3. **Delivery vs. Supply Charges**\\n   - Across all bills, the **supply charge** (the energy itself) and **delivery charges** (AEP Ohio’s distribution service) together make up about **75–85%** of total costs.\\n   - The **customer charge** ($8–$15 range) is fixed regardless of energy use.\\n\\n4. **Seasonal Influence**\\n   - Bills with **colder average temperatures (32°F)**, such as Elizabeth Hernandez’s, show notably higher usage and costs.\\n   - Lower daily costs and usage occur with **milder temperatures (68°F or higher)**.\\n\\n5. **Average Daily Costs**\\n   - Range: **$2.15/day – $7.48/day**, mostly depending on temperature and consumption.\\n   - Elizabeth’s winter bill is the highest daily cost, likely driven by heating.\\n\\n---\\n\\n### 🔹 Overall Insights\\n\\n- **Electric consumption strongly tracks with weather**: colder months lead to higher bills.  \\n- **Rates appear consistent with residential averages in Ohio** (roughly $0.15–$0.20 per kWh).  \\n- **Charles Taylor’s bill** shows the most efficient use and lowest total cost—perhaps a smaller household or lower heating/cooling demand.  \\n- **Mary Miller and Elizabeth Hernandez** have similarly high consumption, possibly due to larger homes or more electric appliances/heating.\\n\\n---\\n\\nWould you like me to compare *cost breakdowns* (supply vs. delivery percentages) for each bill as well?', Response(id='resp_0b5c58e80e485a340068f394cb816481978f189d8d8f1eee08', created_at=1760793803.0, error=None, incomplete_details=None, instructions=None, metadata={}, model='gpt-5-chat-latest', object='response', output=[ResponseOutputMessage(id='msg_0b5c58e80e485a340068f394cdac008197b1832e6139980c7b', content=[ResponseOutputText(annotations=[], text='Here’s an analysis of the **recent AEP Ohio electric bills** you described:  \\n\\n---\\n\\n### 🔹 Summary of the Four Bills\\n\\n| Customer | Billing Period | Days | Usage (kWh) | Amount Due | Avg. Daily Cost |\\n|-----------|----------------|------|--------------|-------------|----------------|\\n| **Susan Moore (Columbus)** | 03/08/2018 – 04/03/2018 | 26 | 500 | **$96.91** | $3.59 |\\n| **Charles Taylor (Cincinnati)** | 09/16/2018 – 10/21/2018 | 35 | 292 | **$77.45** | $2.15 |\\n| **Mary Miller (Dayton)** | 10/21/2019 – 11/20/2019 | 30 | 1439 | **$195.30** | $6.30 |\\n| **Elizabeth Hernandez (Marietta)** | 12/07/2020 – 01/02/2021 | 26 | 1151 | **$218.05** | $7.48 |\\n\\n---\\n\\n### 🔹 Observations & Trends\\n\\n1. **Electric Usage Variation**\\n   - Usage ranges widely from **292 kWh** to **1439 kWh**, showing how consumption can differ based on household size, season, or heating type.\\n   - The lowest usage (292 kWh) was in a **mild fall month**, while higher usage (1151–1439 kWh) occurred in **colder months**, suggesting heating-related electricity use.\\n\\n2. **Cost per kWh Estimate**\\n   - Susan Moore: ~$96.91 / 500 kWh = **$0.19/kWh**\\n   - Charles Taylor: ~$77.45 / 292 kWh = **$0.27/kWh**\\n   - Mary Miller: ~$195.30 / 1439 kWh = **$0.14/kWh**\\n   - Elizabeth Hernandez: ~$218.05 / 1151 kWh = **$0.19/kWh**  \\n   → Rates vary slightly due to taxes, riders, and service territory differences.\\n\\n3. **Delivery vs. Supply Charges**\\n   - Across all bills, the **supply charge** (the energy itself) and **delivery charges** (AEP Ohio’s distribution service) together make up about **75–85%** of total costs.\\n   - The **customer charge** ($8–$15 range) is fixed regardless of energy use.\\n\\n4. **Seasonal Influence**\\n   - Bills with **colder average temperatures (32°F)**, such as Elizabeth Hernandez’s, show notably higher usage and costs.\\n   - Lower daily costs and usage occur with **milder temperatures (68°F or higher)**.\\n\\n5. **Average Daily Costs**\\n   - Range: **$2.15/day – $7.48/day**, mostly depending on temperature and consumption.\\n   - Elizabeth’s winter bill is the highest daily cost, likely driven by heating.\\n\\n---\\n\\n### 🔹 Overall Insights\\n\\n- **Electric consumption strongly tracks with weather**: colder months lead to higher bills.  \\n- **Rates appear consistent with residential averages in Ohio** (roughly $0.15–$0.20 per kWh).  \\n- **Charles Taylor’s bill** shows the most efficient use and lowest total cost—perhaps a smaller household or lower heating/cooling demand.  \\n- **Mary Miller and Elizabeth Hernandez** have similarly high consumption, possibly due to larger homes or more electric appliances/heating.\\n\\n---\\n\\nWould you like me to compare *cost breakdowns* (supply vs. delivery percentages) for each bill as well?', type='output_text', logprobs=[])], role='assistant', status='completed', type='message')], parallel_tool_calls=True, temperature=1.0, tool_choice='auto', tools=[], top_p=1.0, background=False, conversation=None, max_output_tokens=None, max_tool_calls=None, previous_response_id=None, prompt=None, prompt_cache_key=None, reasoning=Reasoning(effort=None, generate_summary=None, summary=None), safety_identifier=None, service_tier='default', status='completed', text=ResponseTextConfig(format=ResponseFormatText(type='text'), verbosity='medium'), top_logprobs=0, truncation='disabled', usage=ResponseUsage(input_tokens=1471, input_tokens_details=InputTokensDetails(cached_tokens=0), output_tokens=761, output_tokens_details=OutputTokensDetails(reasoning_tokens=0), total_tokens=2232), user=None, billing={'payer': 'developer'}, store=True))\n"
     ]
    }
   ],
   "source": [
    "print(ask_gpt_response(system_prompt=primer, user_prompt=augmented_query('Give me some analysis of recent bills?')))"
   ]
  },
  {
   "cell_type": "code",
   "execution_count": null,
   "id": "1233b732",
   "metadata": {},
   "outputs": [],
   "source": []
  }
 ],
 "metadata": {
  "kernelspec": {
   "display_name": "envrag (3.11.5)",
   "language": "python",
   "name": "python3"
  },
  "language_info": {
   "codemirror_mode": {
    "name": "ipython",
    "version": 3
   },
   "file_extension": ".py",
   "mimetype": "text/x-python",
   "name": "python",
   "nbconvert_exporter": "python",
   "pygments_lexer": "ipython3",
   "version": "3.11.5"
  }
 },
 "nbformat": 4,
 "nbformat_minor": 5
}
